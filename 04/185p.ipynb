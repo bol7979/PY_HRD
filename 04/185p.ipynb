{
 "cells": [
  {
   "cell_type": "code",
   "execution_count": 1,
   "metadata": {},
   "outputs": [],
   "source": [
    "def is_odd(n):\n",
    "    if is_odd % 2 == 0:\n",
    "        return True\n",
    "    else:\n",
    "        return False"
   ]
  },
  {
   "cell_type": "code",
   "execution_count": 5,
   "metadata": {},
   "outputs": [
    {
     "data": {
      "text/plain": [
       "3.0"
      ]
     },
     "execution_count": 5,
     "metadata": {},
     "output_type": "execute_result"
    }
   ],
   "source": [
    "def avg_n(*args):\n",
    "    r = 0\n",
    "    for i in args:\n",
    "        r += i\n",
    "    return r / len(args)\n",
    "\n",
    "avg_n(1,2,3,4,5)\n"
   ]
  },
  {
   "cell_type": "code",
   "execution_count": 10,
   "metadata": {},
   "outputs": [
    {
     "name": "stdout",
     "output_type": "stream",
     "text": [
      "test\n"
     ]
    },
    {
     "data": {
      "text/plain": [
       "<function TextIOWrapper.close()>"
      ]
     },
     "execution_count": 10,
     "metadata": {},
     "output_type": "execute_result"
    }
   ],
   "source": [
    "f1 = open(\"test.txt\", \"w\")\n",
    "f1.write(\"test\")\n",
    "# f1.close()\n",
    "\n",
    "f1 = open(\"test.txt\", \"r\")\n",
    "print(f1.read())\n",
    "f1.close\n"
   ]
  },
  {
   "cell_type": "code",
   "execution_count": 27,
   "metadata": {},
   "outputs": [],
   "source": [
    "u_input = input(\"input: \")\n",
    "f = open(\"test.txt\", \"a\")\n",
    "f.write(u_input)\n",
    "f.write(\"\\n\")\n",
    "f.close()"
   ]
  },
  {
   "cell_type": "code",
   "execution_count": 40,
   "metadata": {},
   "outputs": [
    {
     "name": "stdout",
     "output_type": "stream",
     "text": [
      "test\n",
      "test\n",
      "test\n",
      "\n",
      "toast\n",
      "toast\n",
      "toast\n",
      "\n"
     ]
    }
   ],
   "source": [
    "f = open(\"./test.txt\", \"r\")\n",
    "body = f.read()\n",
    "f.close()\n",
    "\n",
    "print(body)\n",
    "\n",
    "body = body.replace(\"test\", \"toast\")\n",
    "print(body)\n",
    "f = open(\"./test.txt\", \"w\")\n",
    "f.write(body)\n",
    "f.close()\n"
   ]
  },
  {
   "cell_type": "code",
   "execution_count": 39,
   "metadata": {},
   "outputs": [
    {
     "name": "stdout",
     "output_type": "stream",
     "text": [
      "bbc\n",
      "abc\n"
     ]
    }
   ],
   "source": [
    "body = \"abc\"\n",
    "body.replace(\"a\", \"b\")"
   ]
  },
  {
   "cell_type": "code",
   "execution_count": null,
   "metadata": {},
   "outputs": [],
   "source": []
  }
 ],
 "metadata": {
  "kernelspec": {
   "display_name": "Python 3",
   "language": "python",
   "name": "python3"
  },
  "language_info": {
   "codemirror_mode": {
    "name": "ipython",
    "version": 3
   },
   "file_extension": ".py",
   "mimetype": "text/x-python",
   "name": "python",
   "nbconvert_exporter": "python",
   "pygments_lexer": "ipython3",
   "version": "3.12.4"
  }
 },
 "nbformat": 4,
 "nbformat_minor": 2
}
