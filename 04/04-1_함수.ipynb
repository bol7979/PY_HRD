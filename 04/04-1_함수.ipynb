{
 "cells": [
  {
   "cell_type": "code",
   "execution_count": 5,
   "metadata": {},
   "outputs": [
    {
     "name": "stdout",
     "output_type": "stream",
     "text": [
      "(1, 2, 3)\n",
      "6\n",
      "(1, 2, 3, 4, 5)\n",
      "15\n"
     ]
    }
   ],
   "source": [
    "def add_many(*args):\n",
    "    print(args)\n",
    "    result = 0\n",
    "    for i in args:\n",
    "        result += i\n",
    "    return result\n",
    "\n",
    "print(add_many(1, 2, 3))\n",
    "print(add_many(1,2,3,4,5))"
   ]
  },
  {
   "cell_type": "code",
   "execution_count": 9,
   "metadata": {},
   "outputs": [
    {
     "name": "stdout",
     "output_type": "stream",
     "text": [
      "(1, 2, 3)\n",
      "8\n",
      "(1, 2, 3, 4, 5)\n",
      "19\n"
     ]
    }
   ],
   "source": [
    "def add_many(*args, b):\n",
    "    print(args)\n",
    "    result = 0\n",
    "    for i in args:\n",
    "        result += i\n",
    "    return result + b\n",
    "\n",
    "print(add_many(1, 2, 3, b = 2))\n",
    "print(add_many(1,2,3,4,5, b = 4))"
   ]
  },
  {
   "cell_type": "code",
   "execution_count": 10,
   "metadata": {},
   "outputs": [
    {
     "ename": "SyntaxError",
     "evalue": "* argument may appear only once (1729624731.py, line 1)",
     "output_type": "error",
     "traceback": [
      "\u001b[1;36m  Cell \u001b[1;32mIn[10], line 1\u001b[1;36m\u001b[0m\n\u001b[1;33m    def add_many(*args, *b):\u001b[0m\n\u001b[1;37m                        ^\u001b[0m\n\u001b[1;31mSyntaxError\u001b[0m\u001b[1;31m:\u001b[0m * argument may appear only once\n"
     ]
    }
   ],
   "source": [
    "#*매개변수는 1개까지.\n",
    "def add_many(*args, *b):\n",
    "    print(args)\n",
    "    result = 0\n",
    "    for i in args:\n",
    "        result += i\n",
    "    return result + b\n",
    "\n",
    "print(add_many(1, 2, 3, b = 2))\n",
    "print(add_many(1,2,3,4,5, b = 4))"
   ]
  },
  {
   "cell_type": "code",
   "execution_count": 18,
   "metadata": {},
   "outputs": [
    {
     "name": "stdout",
     "output_type": "stream",
     "text": [
      "1\n",
      "(2, 3, 4)\n"
     ]
    },
    {
     "data": {
      "text/plain": [
       "10"
      ]
     },
     "execution_count": 18,
     "metadata": {},
     "output_type": "execute_result"
    }
   ],
   "source": [
    "def test0(a, *b):\n",
    "    print(a)\n",
    "    print(b)\n",
    "    test0_r = 0\n",
    "    for i in b:\n",
    "        test0_r += i\n",
    "    return test0_r + a\n",
    "\n",
    "test0(1, 2, 3, 4)\n",
    "\n"
   ]
  },
  {
   "cell_type": "code",
   "execution_count": 22,
   "metadata": {},
   "outputs": [
    {
     "name": "stdout",
     "output_type": "stream",
     "text": [
      "{'a': 1}\n",
      "{'b': 'b0', 'c': 'c0'}\n"
     ]
    }
   ],
   "source": [
    "def p_kwargs(**kwargs):\n",
    "    print(kwargs)\n",
    "\n",
    "p_kwargs(a = 1)\n",
    "p_kwargs(b = \"b0\", c = \"c0\")"
   ]
  },
  {
   "cell_type": "code",
   "execution_count": 2,
   "metadata": {},
   "outputs": [
    {
     "name": "stdout",
     "output_type": "stream",
     "text": [
      "(7, 12)\n"
     ]
    }
   ],
   "source": [
    "def add_and_mul(a, b):\n",
    "    return a + b, a * b #튜플\n",
    "    return a - b #실행안됨\n",
    "\n",
    "result = add_and_mul(3, 4)\n",
    "print(result)"
   ]
  },
  {
   "cell_type": "code",
   "execution_count": 4,
   "metadata": {},
   "outputs": [
    {
     "name": "stdout",
     "output_type": "stream",
     "text": [
      "test\n",
      "None\n",
      "None\n"
     ]
    }
   ],
   "source": [
    "def say_nick(nick):\n",
    "    if nick == \"nick\":\n",
    "        return\n",
    "    print(\"test\")\n",
    "\n",
    "r = say_nick(\"test\")\n",
    "print(r)\n",
    "\n",
    "r2 = say_nick(\"nick\")\n",
    "print(r2)"
   ]
  },
  {
   "cell_type": "code",
   "execution_count": 7,
   "metadata": {},
   "outputs": [
    {
     "name": "stdout",
     "output_type": "stream",
     "text": [
      "1, 2, 3\n",
      "a\n",
      "b\n",
      "c\n"
     ]
    }
   ],
   "source": [
    "def t01(a,b,c = 3): #c의 기본값 지정\n",
    "    print(f\"{a}, {b}, {c}\")\n",
    "    if a:\n",
    "        print(\"a\")\n",
    "    if b:\n",
    "        print(\"b\")\n",
    "    if c:\n",
    "        print(\"c\")\n",
    "    \n",
    "t01(1,2)"
   ]
  },
  {
   "cell_type": "code",
   "execution_count": 8,
   "metadata": {},
   "outputs": [
    {
     "name": "stdout",
     "output_type": "stream",
     "text": [
      "a\n",
      "\n",
      "b\n"
     ]
    }
   ],
   "source": [
    "print(\"a\\n\")\n",
    "print(\"b\")"
   ]
  },
  {
   "cell_type": "code",
   "execution_count": 14,
   "metadata": {},
   "outputs": [
    {
     "name": "stdout",
     "output_type": "stream",
     "text": [
      "2\n",
      "1\n"
     ]
    }
   ],
   "source": [
    "a = 1\n",
    "def vtest(a):\n",
    "    a += 1\n",
    "    print(a)\n",
    "\n",
    "vtest(a) #함수내부 a\n",
    "print(a) #외부 a"
   ]
  },
  {
   "cell_type": "code",
   "execution_count": 18,
   "metadata": {},
   "outputs": [
    {
     "name": "stdout",
     "output_type": "stream",
     "text": [
      "1\n",
      "2\n",
      "2\n"
     ]
    }
   ],
   "source": [
    "a = 1\n",
    "def vtest(a):\n",
    "    a += 1\n",
    "    print(a) #2\n",
    "    return a\n",
    "\n",
    "print(a) #1\n",
    "a = vtest(a) #2\n",
    "print(a)\n"
   ]
  },
  {
   "cell_type": "code",
   "execution_count": 33,
   "metadata": {},
   "outputs": [
    {
     "name": "stdout",
     "output_type": "stream",
     "text": [
      "2\n",
      "1\n"
     ]
    }
   ],
   "source": [
    "a = 1\n",
    "b = 1\n",
    "\n",
    "def vtest():\n",
    "    global a\n",
    "    a += b\n",
    "    global c\n",
    "    c = 1\n",
    "\n",
    "vtest()\n",
    "print(a)\n",
    "print(c)\n"
   ]
  },
  {
   "cell_type": "code",
   "execution_count": 34,
   "metadata": {},
   "outputs": [
    {
     "name": "stdout",
     "output_type": "stream",
     "text": [
      "7\n"
     ]
    }
   ],
   "source": [
    "# def add(a, b):\n",
    "    # return a + b\n",
    "\n",
    "add = lambda a, b: a + b\n",
    "print(add(3, 4))"
   ]
  },
  {
   "cell_type": "code",
   "execution_count": null,
   "metadata": {},
   "outputs": [],
   "source": []
  }
 ],
 "metadata": {
  "kernelspec": {
   "display_name": "Python 3",
   "language": "python",
   "name": "python3"
  },
  "language_info": {
   "codemirror_mode": {
    "name": "ipython",
    "version": 3
   },
   "file_extension": ".py",
   "mimetype": "text/x-python",
   "name": "python",
   "nbconvert_exporter": "python",
   "pygments_lexer": "ipython3",
   "version": "3.12.4"
  }
 },
 "nbformat": 4,
 "nbformat_minor": 2
}
