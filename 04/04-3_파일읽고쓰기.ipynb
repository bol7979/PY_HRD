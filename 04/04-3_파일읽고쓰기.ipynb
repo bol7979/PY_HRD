{
 "cells": [
  {
   "cell_type": "code",
   "execution_count": 2,
   "metadata": {},
   "outputs": [],
   "source": [
    "#./ 현재폴더 ../ 상위폴더\n",
    "#w, r, a(추가)\n",
    "f = open(\"./새파일.txt\", \"w\")\n",
    "f.close()"
   ]
  },
  {
   "cell_type": "code",
   "execution_count": 7,
   "metadata": {},
   "outputs": [],
   "source": [
    "f = open(\"./새파일.txt\", \"w\")\n",
    "\n",
    "for i in range(1, 11):\n",
    "    data = f\"{i}.\\n\"\n",
    "    f.write(data)\n",
    "\n",
    "f.close()"
   ]
  },
  {
   "cell_type": "code",
   "execution_count": 10,
   "metadata": {},
   "outputs": [
    {
     "name": "stdout",
     "output_type": "stream",
     "text": [
      "1.\n",
      "\n"
     ]
    }
   ],
   "source": [
    "f = open(\"./새파일.txt\", \"r\")\n",
    "\n",
    "line = f.readline()\n",
    "print(line)\n",
    "\n",
    "f.close()"
   ]
  },
  {
   "cell_type": "code",
   "execution_count": 13,
   "metadata": {},
   "outputs": [
    {
     "name": "stdout",
     "output_type": "stream",
     "text": [
      "1.\n",
      "\n",
      "2.\n",
      "\n",
      "3.\n",
      "\n",
      "4.\n",
      "\n",
      "5.\n",
      "\n",
      "6.\n",
      "\n",
      "7.\n",
      "\n",
      "8.\n",
      "\n",
      "9.\n",
      "\n",
      "10.\n",
      "\n"
     ]
    }
   ],
   "source": [
    "f = open(\"./새파일.txt\", \"r\")\n",
    "\n",
    "while True:\n",
    "    line = f.readline()\n",
    "    if not line: break\n",
    "    print(line)\n",
    "\n",
    "f.close()"
   ]
  },
  {
   "cell_type": "code",
   "execution_count": 1,
   "metadata": {},
   "outputs": [
    {
     "name": "stdout",
     "output_type": "stream",
     "text": [
      "1.\n",
      "\n",
      "2.\n",
      "\n",
      "3.\n",
      "\n",
      "4.\n",
      "\n",
      "5.\n",
      "\n",
      "6.\n",
      "\n",
      "7.\n",
      "\n",
      "8.\n",
      "\n",
      "9.\n",
      "\n",
      "10.\n",
      "\n"
     ]
    }
   ],
   "source": [
    "f = open(\"./새파일.txt\", \"r\")\n",
    "\n",
    "lines = f.readlines() #리스트\n",
    "\n",
    "for line in lines:\n",
    "    print(line)\n",
    "\n",
    "f.close()"
   ]
  },
  {
   "cell_type": "code",
   "execution_count": 3,
   "metadata": {},
   "outputs": [
    {
     "name": "stdout",
     "output_type": "stream",
     "text": [
      "['1.\\n', '2.\\n', '3.\\n', '4.\\n', '5.\\n', '6.\\n', '7.\\n', '8.\\n', '9.\\n', '10.\\n']\n"
     ]
    }
   ],
   "source": [
    "print(lines)"
   ]
  },
  {
   "cell_type": "code",
   "execution_count": 4,
   "metadata": {},
   "outputs": [
    {
     "name": "stdout",
     "output_type": "stream",
     "text": [
      "1.\n",
      "2.\n",
      "3.\n",
      "4.\n",
      "5.\n",
      "6.\n",
      "7.\n",
      "8.\n",
      "9.\n",
      "10.\n"
     ]
    }
   ],
   "source": [
    "f = open(\"./새파일.txt\", \"r\")\n",
    "\n",
    "lines = f.readlines()\n",
    "\n",
    "for  line in lines:\n",
    "    line = line.strip()\n",
    "    print(line)\n",
    "\n",
    "f.close()"
   ]
  },
  {
   "cell_type": "code",
   "execution_count": 10,
   "metadata": {},
   "outputs": [
    {
     "name": "stdout",
     "output_type": "stream",
     "text": [
      "1.\n",
      "2.\n",
      "3.\n",
      "4.\n",
      "5.\n",
      "6.\n",
      "7.\n",
      "8.\n",
      "9.\n",
      "10.\n"
     ]
    }
   ],
   "source": [
    "f = open(\"C:/Users/as4761285 001/Documents/PY_HY/04/새파일.txt\", \"r\")\n",
    "\n",
    "lines = f.readlines()\n",
    "\n",
    "for  line in lines:\n",
    "    line = line.strip()\n",
    "    print(line)\n",
    "\n",
    "f.close()"
   ]
  },
  {
   "cell_type": "code",
   "execution_count": 12,
   "metadata": {},
   "outputs": [
    {
     "name": "stdout",
     "output_type": "stream",
     "text": [
      "[\n",
      "test\n",
      "\t]\n",
      "[test]\n"
     ]
    }
   ],
   "source": [
    "a = \"\\ntest\\n\\t\"\n",
    "s = \"[\" + a + \"]\"\n",
    "print(s)\n",
    "\n",
    "s = \"[\" + a.strip() + \"]\"\n",
    "print(s)"
   ]
  },
  {
   "cell_type": "code",
   "execution_count": 14,
   "metadata": {},
   "outputs": [
    {
     "name": "stdout",
     "output_type": "stream",
     "text": [
      "1.\n",
      "2.\n",
      "3.\n",
      "4.\n",
      "5.\n",
      "6.\n",
      "7.\n",
      "8.\n",
      "9.\n",
      "10.\n",
      "\n"
     ]
    }
   ],
   "source": [
    "f = open(\"./새파일.txt\", \"r\")\n",
    "data = f.read()\n",
    "print(data)\n",
    "f.close()"
   ]
  },
  {
   "cell_type": "code",
   "execution_count": 15,
   "metadata": {},
   "outputs": [
    {
     "name": "stdout",
     "output_type": "stream",
     "text": [
      "1.\n",
      "\n",
      "2.\n",
      "\n",
      "3.\n",
      "\n",
      "4.\n",
      "\n",
      "5.\n",
      "\n",
      "6.\n",
      "\n",
      "7.\n",
      "\n",
      "8.\n",
      "\n",
      "9.\n",
      "\n",
      "10.\n",
      "\n"
     ]
    }
   ],
   "source": [
    "f = open(\"./새파일.txt\", \"r\")\n",
    "\n",
    "for line in f:\n",
    "    print(line)\n",
    "\n",
    "f.close()"
   ]
  },
  {
   "cell_type": "code",
   "execution_count": 22,
   "metadata": {},
   "outputs": [],
   "source": [
    "f = open(\"./새파일.txt\", \"w\")\n",
    "\n",
    "for i in range(11, 21):\n",
    "    data = f\"{i}.\\n\"\n",
    "    f.write(data)\n",
    "\n",
    "f.close()"
   ]
  },
  {
   "cell_type": "code",
   "execution_count": 23,
   "metadata": {},
   "outputs": [],
   "source": [
    "f = open(\"./새파일.txt\", \"a\")\n",
    "\n",
    "for i in range(21, 31):\n",
    "    data = f\"{i}.\\n\"\n",
    "    f.write(data)\n",
    "\n",
    "f.close()"
   ]
  },
  {
   "cell_type": "code",
   "execution_count": 24,
   "metadata": {},
   "outputs": [],
   "source": [
    "f = open(\"./foo.txt\", \"w\")\n",
    "f.write(\"test\")\n",
    "f.close()"
   ]
  },
  {
   "cell_type": "code",
   "execution_count": 25,
   "metadata": {},
   "outputs": [],
   "source": [
    "with open(\"./foo.txt\", \"w\") as f:\n",
    "    f.write(\"test0\")\n"
   ]
  },
  {
   "cell_type": "code",
   "execution_count": 30,
   "metadata": {},
   "outputs": [
    {
     "name": "stdout",
     "output_type": "stream",
     "text": [
      "<class '_csv.writer'>\n"
     ]
    }
   ],
   "source": [
    "#csv.w\n",
    "import csv\n",
    "\n",
    "with open(\"./example.csv\", \"w\") as f:\n",
    "    c_w = csv.writer(f)\n",
    "    print(type(c_w))\n",
    "\n",
    "    c_w.writerow([\"이름\", \"나이\", \"직업\"])\n",
    "    c_w.writerow([\"이름\", \"나이\", \"직업2\"])\n",
    "    c_w.writerow([\"이름\", \"나이\", \"직업3\"])"
   ]
  },
  {
   "cell_type": "code",
   "execution_count": 40,
   "metadata": {},
   "outputs": [
    {
     "name": "stdout",
     "output_type": "stream",
     "text": [
      "['이름', '나이', '직업']\n",
      "[]\n",
      "['이름', '나이', '직업2']\n",
      "[]\n",
      "['이름', '나이', '직업3']\n",
      "[]\n"
     ]
    }
   ],
   "source": [
    "#csv.r\n",
    "with open(\"./example.csv\", \"r\") as f:\n",
    "    c_r = csv.reader(f)\n",
    "    \n",
    "    for row in c_r:\n",
    "        print(row)\n"
   ]
  },
  {
   "cell_type": "code",
   "execution_count": 41,
   "metadata": {},
   "outputs": [],
   "source": [
    "#엑셀 pip install openpyxl\n",
    "#!pip install openpyxl"
   ]
  },
  {
   "cell_type": "code",
   "execution_count": 47,
   "metadata": {},
   "outputs": [],
   "source": [
    "# import openpyxl\n",
    "# wb = openpyxl.Workbook()\n",
    "from openpyxl import Workbook #엑셀쓰기\n",
    "wb = Workbook()\n",
    "\n",
    "ws = wb.active\n",
    "ws.title = \"수강생_정보\"\n",
    "\n",
    "ws['A1'] = \"철수\"\n",
    "ws['b2'] = \"철수1\"\n",
    "wb.save(\"./수강생리스트.xlsx\")\n",
    "wb.close()"
   ]
  },
  {
   "cell_type": "code",
   "execution_count": 52,
   "metadata": {},
   "outputs": [],
   "source": [
    "wb = Workbook()\n",
    "\n",
    "ws = wb.active\n",
    "ws.title = \"수강생_정보\"\n",
    "\n",
    "ws_column = [\"번호\", \"이름\", \"과목\"]\n",
    "ws.append(ws_column)\n",
    "\n",
    "ws_row = [1, \"홍길동\", \"수학\"]\n",
    "ws.append(ws_row)\n",
    "\n",
    "wb.save(\"./수강생리스트.xlsx\")\n",
    "wb.close()"
   ]
  },
  {
   "cell_type": "code",
   "execution_count": 55,
   "metadata": {},
   "outputs": [
    {
     "name": "stdout",
     "output_type": "stream",
     "text": [
      "주문ID\n"
     ]
    }
   ],
   "source": [
    "from openpyxl import load_workbook#엑셀 읽기\n",
    "# from openpyxl import Workbook, load_workbook\n",
    "\n",
    "wb0 = load_workbook(filename=\"./서울.xlsx\")\n",
    "ws0 = wb0.active\n",
    "#ws0 = wb[\"1월\"]\n",
    "\n",
    "data = ws0[\"A1\"].value\n",
    "print(data)"
   ]
  },
  {
   "cell_type": "code",
   "execution_count": 62,
   "metadata": {},
   "outputs": [
    {
     "name": "stdout",
     "output_type": "stream",
     "text": [
      "<generator object Worksheet._cells_by_row at 0x0000013A10F9E8C0>\n",
      "(<Cell '서울'.A1>, <Cell '서울'.B1>, <Cell '서울'.C1>, <Cell '서울'.D1>, <Cell '서울'.E1>, <Cell '서울'.F1>, <Cell '서울'.G1>, <Cell '서울'.H1>, <Cell '서울'.I1>, <Cell '서울'.J1>, <Cell '서울'.K1>)\n",
      "(<Cell '서울'.A2>, <Cell '서울'.B2>, <Cell '서울'.C2>, <Cell '서울'.D2>, <Cell '서울'.E2>, <Cell '서울'.F2>, <Cell '서울'.G2>, <Cell '서울'.H2>, <Cell '서울'.I2>, <Cell '서울'.J2>, <Cell '서울'.K2>)\n",
      "(<Cell '서울'.A3>, <Cell '서울'.B3>, <Cell '서울'.C3>, <Cell '서울'.D3>, <Cell '서울'.E3>, <Cell '서울'.F3>, <Cell '서울'.G3>, <Cell '서울'.H3>, <Cell '서울'.I3>, <Cell '서울'.J3>, <Cell '서울'.K3>)\n",
      "(<Cell '서울'.A4>, <Cell '서울'.B4>, <Cell '서울'.C4>, <Cell '서울'.D4>, <Cell '서울'.E4>, <Cell '서울'.F4>, <Cell '서울'.G4>, <Cell '서울'.H4>, <Cell '서울'.I4>, <Cell '서울'.J4>, <Cell '서울'.K4>)\n",
      "(<Cell '서울'.A5>, <Cell '서울'.B5>, <Cell '서울'.C5>, <Cell '서울'.D5>, <Cell '서울'.E5>, <Cell '서울'.F5>, <Cell '서울'.G5>, <Cell '서울'.H5>, <Cell '서울'.I5>, <Cell '서울'.J5>, <Cell '서울'.K5>)\n",
      "(<Cell '서울'.A6>, <Cell '서울'.B6>, <Cell '서울'.C6>, <Cell '서울'.D6>, <Cell '서울'.E6>, <Cell '서울'.F6>, <Cell '서울'.G6>, <Cell '서울'.H6>, <Cell '서울'.I6>, <Cell '서울'.J6>, <Cell '서울'.K6>)\n",
      "(<Cell '서울'.A7>, <Cell '서울'.B7>, <Cell '서울'.C7>, <Cell '서울'.D7>, <Cell '서울'.E7>, <Cell '서울'.F7>, <Cell '서울'.G7>, <Cell '서울'.H7>, <Cell '서울'.I7>, <Cell '서울'.J7>, <Cell '서울'.K7>)\n",
      "(<Cell '서울'.A8>, <Cell '서울'.B8>, <Cell '서울'.C8>, <Cell '서울'.D8>, <Cell '서울'.E8>, <Cell '서울'.F8>, <Cell '서울'.G8>, <Cell '서울'.H8>, <Cell '서울'.I8>, <Cell '서울'.J8>, <Cell '서울'.K8>)\n",
      "(<Cell '서울'.A9>, <Cell '서울'.B9>, <Cell '서울'.C9>, <Cell '서울'.D9>, <Cell '서울'.E9>, <Cell '서울'.F9>, <Cell '서울'.G9>, <Cell '서울'.H9>, <Cell '서울'.I9>, <Cell '서울'.J9>, <Cell '서울'.K9>)\n",
      "(<Cell '서울'.A10>, <Cell '서울'.B10>, <Cell '서울'.C10>, <Cell '서울'.D10>, <Cell '서울'.E10>, <Cell '서울'.F10>, <Cell '서울'.G10>, <Cell '서울'.H10>, <Cell '서울'.I10>, <Cell '서울'.J10>, <Cell '서울'.K10>)\n",
      "(<Cell '서울'.A11>, <Cell '서울'.B11>, <Cell '서울'.C11>, <Cell '서울'.D11>, <Cell '서울'.E11>, <Cell '서울'.F11>, <Cell '서울'.G11>, <Cell '서울'.H11>, <Cell '서울'.I11>, <Cell '서울'.J11>, <Cell '서울'.K11>)\n",
      "(<Cell '서울'.A12>, <Cell '서울'.B12>, <Cell '서울'.C12>, <Cell '서울'.D12>, <Cell '서울'.E12>, <Cell '서울'.F12>, <Cell '서울'.G12>, <Cell '서울'.H12>, <Cell '서울'.I12>, <Cell '서울'.J12>, <Cell '서울'.K12>)\n",
      "(<Cell '서울'.A13>, <Cell '서울'.B13>, <Cell '서울'.C13>, <Cell '서울'.D13>, <Cell '서울'.E13>, <Cell '서울'.F13>, <Cell '서울'.G13>, <Cell '서울'.H13>, <Cell '서울'.I13>, <Cell '서울'.J13>, <Cell '서울'.K13>)\n"
     ]
    }
   ],
   "source": [
    "from openpyxl import load_workbook#엑셀 읽기\n",
    "# from openpyxl import Workbook, load_workbook\n",
    "\n",
    "wb0 = load_workbook(filename=\"./서울.xlsx\")\n",
    "ws0 = wb0.active\n",
    "#ws0 = wb[\"1월\"]\n",
    "print(ws0.rows)\n",
    "\n",
    "for row in ws0.rows:\n",
    "    print(row)"
   ]
  },
  {
   "cell_type": "code",
   "execution_count": 68,
   "metadata": {},
   "outputs": [
    {
     "name": "stdout",
     "output_type": "stream",
     "text": [
      "<generator object Worksheet._cells_by_row at 0x0000013A1167A680>\n",
      "['번호', '이름', '과목']\n",
      "[1, '홍길동', '수학']\n"
     ]
    }
   ],
   "source": [
    "from openpyxl import load_workbook#엑셀 읽기\n",
    "# from openpyxl import Workbook, load_workbook\n",
    "\n",
    "wb0 = load_workbook(filename=\"./서울.xlsx\")\n",
    "ws0 = wb0.active\n",
    "#ws0 = wb[\"1월\"]\n",
    "print(ws0.rows)\n",
    "\n",
    "rows = (ws.rows)\n",
    "for row in rows:\n",
    "    row_values = [cell.value for cell in row]\n",
    "    print(row_values)"
   ]
  },
  {
   "cell_type": "code",
   "execution_count": 69,
   "metadata": {},
   "outputs": [
    {
     "name": "stdout",
     "output_type": "stream",
     "text": [
      "Collecting python-docx\n",
      "  Downloading python_docx-1.1.2-py3-none-any.whl.metadata (2.0 kB)\n",
      "Collecting lxml>=3.1.0 (from python-docx)\n",
      "  Downloading lxml-5.3.0-cp312-cp312-win_amd64.whl.metadata (3.9 kB)\n",
      "Collecting typing-extensions>=4.9.0 (from python-docx)\n",
      "  Downloading typing_extensions-4.12.2-py3-none-any.whl.metadata (3.0 kB)\n",
      "Downloading python_docx-1.1.2-py3-none-any.whl (244 kB)\n",
      "   ---------------------------------------- 0.0/244.3 kB ? eta -:--:--\n",
      "   ------ -------------------------------- 41.0/244.3 kB 991.0 kB/s eta 0:00:01\n",
      "   ---------------------------------------- 244.3/244.3 kB 3.0 MB/s eta 0:00:00\n",
      "Downloading lxml-5.3.0-cp312-cp312-win_amd64.whl (3.8 MB)\n",
      "   ---------------------------------------- 0.0/3.8 MB ? eta -:--:--\n",
      "   ---- ----------------------------------- 0.4/3.8 MB 12.2 MB/s eta 0:00:01\n",
      "   --------- ------------------------------ 0.9/3.8 MB 11.6 MB/s eta 0:00:01\n",
      "   ------------------ --------------------- 1.7/3.8 MB 13.8 MB/s eta 0:00:01\n",
      "   ----------------------------- ---------- 2.8/3.8 MB 14.9 MB/s eta 0:00:01\n",
      "   ---------------------------------------  3.8/3.8 MB 18.7 MB/s eta 0:00:01\n",
      "   ---------------------------------------- 3.8/3.8 MB 16.3 MB/s eta 0:00:00\n",
      "Downloading typing_extensions-4.12.2-py3-none-any.whl (37 kB)\n",
      "Installing collected packages: typing-extensions, lxml, python-docx\n",
      "Successfully installed lxml-5.3.0 python-docx-1.1.2 typing-extensions-4.12.2\n"
     ]
    },
    {
     "name": "stderr",
     "output_type": "stream",
     "text": [
      "\n",
      "[notice] A new release of pip is available: 24.0 -> 24.2\n",
      "[notice] To update, run: python.exe -m pip install --upgrade pip\n"
     ]
    }
   ],
   "source": [
    "#워드 pip install python-docx\n",
    "!pip install python-docx"
   ]
  },
  {
   "cell_type": "code",
   "execution_count": 78,
   "metadata": {},
   "outputs": [],
   "source": [
    "from docx import Document\n",
    "from docx.enum.text import WD_ALIGN_PARAGRAPH\n",
    "\n",
    "doc = Document()\n",
    "\n",
    "title = doc.add_heading(\"제목 작성\", level = 0)\n",
    "title.alignment = WD_ALIGN_PARAGRAPH.CENTER\n",
    "\n",
    "doc.add_heading(\"소제목 작성\", level = 2)\n",
    "\n",
    "#테이블\n",
    "table = doc.add_table(rows = 3, cols = 3)\n",
    "table.style = \"Table Grid\"\n",
    "\n",
    "hdr_cells = table.rows[0].cells\n",
    "hdr_cells[0].text = \"헤더 1\"\n",
    "hdr_cells[1].text = \"헤더 2\"\n",
    "hdr_cells[2].text = \"헤더 3\"\n",
    "\n",
    "for i in range(1, 3):\n",
    "    row_cells = table.rows[i].cells\n",
    "    row_cells[0].text = f\"{i}행 1열\"\n",
    "    row_cells[1].text = f\"{i}행 2열\"\n",
    "    row_cells[2].text = f\"{i}행 3열\"\n",
    "\n",
    "doc.save(\"./example.docx\")"
   ]
  },
  {
   "cell_type": "code",
   "execution_count": null,
   "metadata": {},
   "outputs": [],
   "source": []
  }
 ],
 "metadata": {
  "kernelspec": {
   "display_name": "Python 3",
   "language": "python",
   "name": "python3"
  },
  "language_info": {
   "codemirror_mode": {
    "name": "ipython",
    "version": 3
   },
   "file_extension": ".py",
   "mimetype": "text/x-python",
   "name": "python",
   "nbconvert_exporter": "python",
   "pygments_lexer": "ipython3",
   "version": "3.12.4"
  }
 },
 "nbformat": 4,
 "nbformat_minor": 2
}
