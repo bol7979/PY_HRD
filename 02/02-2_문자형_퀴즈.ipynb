{
 "cells": [
  {
   "cell_type": "markdown",
   "metadata": {},
   "source": [
    "1. 사용자로부터 문자를 입력받아 문자의 길이를 출력하는 프로그램을 만드세요."
   ]
  },
  {
   "cell_type": "code",
   "execution_count": 2,
   "metadata": {},
   "outputs": [
    {
     "data": {
      "text/plain": [
       "10"
      ]
     },
     "execution_count": 2,
     "metadata": {},
     "output_type": "execute_result"
    }
   ],
   "source": [
    "input_0 = input(\"input: \")\n",
    "\n",
    "len(input_0)"
   ]
  },
  {
   "cell_type": "markdown",
   "metadata": {},
   "source": [
    "2. 사용자로부터 문자를 입력받아 첫 글자와 마지막 글자를 출력하는 프로그램을 만드세요. "
   ]
  },
  {
   "cell_type": "code",
   "execution_count": 4,
   "metadata": {},
   "outputs": [
    {
     "name": "stdout",
     "output_type": "stream",
     "text": [
      "1, 9\n"
     ]
    }
   ],
   "source": [
    "input_0 = input(\"input: \")\n",
    "\n",
    "print(\"{0}, {1}\" .format(input_0[0], input_0[-1]))"
   ]
  },
  {
   "cell_type": "markdown",
   "metadata": {},
   "source": [
    "3. 사용자가 입력한 반지름을 사용하여 원의 면적을 계사하는 프로그램을 만드세요(원의면적은: (3.14) * 반지름의 제곱)"
   ]
  },
  {
   "cell_type": "code",
   "execution_count": 6,
   "metadata": {},
   "outputs": [
    {
     "name": "stdout",
     "output_type": "stream",
     "text": [
      "28.26\n"
     ]
    }
   ],
   "source": [
    "input_0 = int(input(\"input: \"))\n",
    "\n",
    "print (3.14 * input_0 ** 2)"
   ]
  },
  {
   "cell_type": "markdown",
   "metadata": {},
   "source": [
    "4. 3번의 숫자를 입력을 받아 평균을 구하는 프로그램을 만드세요."
   ]
  },
  {
   "cell_type": "code",
   "execution_count": 9,
   "metadata": {},
   "outputs": [
    {
     "data": {
      "text/plain": [
       "2.0"
      ]
     },
     "execution_count": 9,
     "metadata": {},
     "output_type": "execute_result"
    }
   ],
   "source": [
    "input_1 = int(input(\"input: \"))\n",
    "input_2 = int(input(\"input: \"))\n",
    "input_3 = int(input(\"input: \"))\n",
    "\n",
    "(input_1 + input_2 + input_3) / 3"
   ]
  },
  {
   "cell_type": "markdown",
   "metadata": {},
   "source": [
    "5. 아래 문자열에서 문자열 슬라이싱을 사용하여 '금메달'을 추출해 주세요\n",
    "* a = \"“잠자는 경기장의 공주” 낮잠 자고 일어나 금메달 딴 女선수 화제\""
   ]
  },
  {
   "cell_type": "code",
   "execution_count": 13,
   "metadata": {},
   "outputs": [
    {
     "data": {
      "text/plain": [
       "'금메달'"
      ]
     },
     "execution_count": 13,
     "metadata": {},
     "output_type": "execute_result"
    }
   ],
   "source": [
    "a = \"“잠자는 경기장의 공주” 낮잠 자고 일어나 금메달 딴 女선수 화제\"\n",
    "\n",
    "a[24:27]"
   ]
  },
  {
   "cell_type": "markdown",
   "metadata": {},
   "source": [
    "6. 5번 문제에서의 문자열 중 '공주'를 '왕자'로 바꿔주세요"
   ]
  },
  {
   "cell_type": "code",
   "execution_count": 17,
   "metadata": {},
   "outputs": [
    {
     "name": "stdout",
     "output_type": "stream",
     "text": [
      "“잠자는 경기장의 왕자” 낮잠 자고 일어나 금메달 딴 女선수 화제\n"
     ]
    }
   ],
   "source": [
    "print(a.replace(\"공주\", \"왕자\"))"
   ]
  },
  {
   "cell_type": "markdown",
   "metadata": {},
   "source": [
    "7. a = \"himzei@gmail.com\" 에서 find() 함수를 이용하여 'himzei'만 추출하세요 "
   ]
  },
  {
   "cell_type": "code",
   "execution_count": 31,
   "metadata": {},
   "outputs": [
    {
     "name": "stdout",
     "output_type": "stream",
     "text": [
      "himzei\n"
     ]
    }
   ],
   "source": [
    "a = \"himzei@gmail.com\"\n",
    "\n",
    "a.find(\"@\")\n",
    "\n",
    "print(a[0:6])"
   ]
  },
  {
   "cell_type": "markdown",
   "metadata": {},
   "source": [
    "8. 이름, 취미, MBTI를 입력받아 변수에 담은 뒤, 출력하세요(3가지 문자열 출력방법 활용 ex)%s, format(), f\"\")"
   ]
  },
  {
   "cell_type": "code",
   "execution_count": 21,
   "metadata": {},
   "outputs": [
    {
     "name": "stdout",
     "output_type": "stream",
     "text": [
      "i_1: 1 / i_2: 2 / i_3: 3\n",
      "\n",
      "i_1: 1 / i_2: 2 / i_3: 3\n",
      "\n",
      "i_1: 1 / i_2: 2 / i_3: 3\n"
     ]
    }
   ],
   "source": [
    "i_1 = input(\"1: \")\n",
    "i_2 = input(\"2: \")\n",
    "i_3 = input(\"3: \")\n",
    "\n",
    "print(\"i_1: %s / i_2: %s / i_3: %s\" % (i_1, i_2, i_3))\n",
    "print()\n",
    "\n",
    "print(\"i_1: {0} / i_2: {1} / i_3: {2}\" .format(i_1, i_2, i_3))\n",
    "print()\n",
    "\n",
    "print(f\"i_1: {i_1} / i_2: {i_2} / i_3: {i_3}\")"
   ]
  },
  {
   "cell_type": "markdown",
   "metadata": {},
   "source": []
  }
 ],
 "metadata": {
  "kernelspec": {
   "display_name": "Python 3",
   "language": "python",
   "name": "python3"
  },
  "language_info": {
   "codemirror_mode": {
    "name": "ipython",
    "version": 3
   },
   "file_extension": ".py",
   "mimetype": "text/x-python",
   "name": "python",
   "nbconvert_exporter": "python",
   "pygments_lexer": "ipython3",
   "version": "3.12.4"
  }
 },
 "nbformat": 4,
 "nbformat_minor": 2
}
