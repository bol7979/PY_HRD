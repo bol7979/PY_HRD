{
 "cells": [
  {
   "cell_type": "markdown",
   "metadata": {},
   "source": [
    "1. scores = {'Alice': 85, 'Bob': 92, 'Charlie': 78} Charlie의 점수를 출력하세요 "
   ]
  },
  {
   "cell_type": "code",
   "execution_count": 1,
   "metadata": {},
   "outputs": [
    {
     "data": {
      "text/plain": [
       "78"
      ]
     },
     "execution_count": 1,
     "metadata": {},
     "output_type": "execute_result"
    }
   ],
   "source": [
    "scores = {'Alice': 85, 'Bob': 92, 'Charlie': 78}\n",
    "scores.get('Charlie')"
   ]
  },
  {
   "cell_type": "markdown",
   "metadata": {},
   "source": [
    "2. person = {'name': 'Alice', 'age': 25} 주어졌을 때 이름과 나이를 출력하는 프로그램을 만드세요. "
   ]
  },
  {
   "cell_type": "code",
   "execution_count": 7,
   "metadata": {},
   "outputs": [
    {
     "name": "stdout",
     "output_type": "stream",
     "text": [
      "Alice\n",
      "25\n"
     ]
    }
   ],
   "source": [
    "person = {'name': 'Alice', 'age': 25}\n",
    "print(person.get('name'))\n",
    "print(person.get('age'))"
   ]
  },
  {
   "cell_type": "markdown",
   "metadata": {},
   "source": [
    "3. grades = {'math': 90, 'science': 85, 'english': 88} 주어진 딕셔너리의 과목의 합과 평균을 구해주세요"
   ]
  },
  {
   "cell_type": "code",
   "execution_count": 14,
   "metadata": {},
   "outputs": [
    {
     "name": "stdout",
     "output_type": "stream",
     "text": [
      "263\n",
      "87.66666666666667\n"
     ]
    }
   ],
   "source": [
    "grades = {'math': 90, 'science': 85, 'english': 88}\n",
    "\n",
    "s = grades['math'] + grades['science'] + grades['english']\n",
    "\n",
    "print(s)\n",
    "print(s/3)"
   ]
  },
  {
   "cell_type": "markdown",
   "metadata": {},
   "source": [
    "4. employee = {'name': 'ken', 'position': 'Manager', 'salary': 5000} 에서 salary 요소를 삭제해 주세요 "
   ]
  },
  {
   "cell_type": "code",
   "execution_count": 9,
   "metadata": {},
   "outputs": [
    {
     "name": "stdout",
     "output_type": "stream",
     "text": [
      "{'name': 'ken', 'position': 'Manager'}\n"
     ]
    }
   ],
   "source": [
    "employee = {'name': 'ken', 'position': 'Manager', 'salary': 5000}\n",
    "del employee['salary']\n",
    "\n",
    "print(employee)"
   ]
  },
  {
   "cell_type": "markdown",
   "metadata": {},
   "source": [
    "5. foods = {\"딸기\": 1000, \"사과\": 2000, \"수박\": 3000} 에서 \"김치\": 5000 을 추가해 주세요 |"
   ]
  },
  {
   "cell_type": "code",
   "execution_count": 10,
   "metadata": {},
   "outputs": [
    {
     "name": "stdout",
     "output_type": "stream",
     "text": [
      "{'딸기': 1000, '사과': 2000, '수박': 3000, '김치': 5000}\n"
     ]
    }
   ],
   "source": [
    "foods = {\"딸기\": 1000, \"사과\": 2000, \"수박\": 3000}\n",
    "foods[\"김치\"] = 5000\n",
    "\n",
    "print(foods)"
   ]
  },
  {
   "cell_type": "markdown",
   "metadata": {},
   "source": [
    "6. foods = {\"딸기\": 1000, \"사과\": 2000, \"수박\": 3000} 에서 수박이 있으면 True 를 출력하는 프로그램을 만드세요"
   ]
  },
  {
   "cell_type": "code",
   "execution_count": 12,
   "metadata": {},
   "outputs": [
    {
     "name": "stdout",
     "output_type": "stream",
     "text": [
      "T\n"
     ]
    }
   ],
   "source": [
    "foods = {\"딸기\": 1000, \"사과\": 2000, \"수박\": 3000}\n",
    "if \"수박\" in foods:\n",
    "    print(\"T\")"
   ]
  },
  {
   "cell_type": "markdown",
   "metadata": {},
   "source": [
    "7. foods = {\"딸기\": 1000, \"사과\": 2000, \"수박\": 3000} 에서 key 값을 출력하라(for문 활용)"
   ]
  },
  {
   "cell_type": "code",
   "execution_count": 16,
   "metadata": {},
   "outputs": [
    {
     "name": "stdout",
     "output_type": "stream",
     "text": [
      "딸기\n",
      "사과\n",
      "수박\n"
     ]
    }
   ],
   "source": [
    "foods = {\"딸기\": 1000, \"사과\": 2000, \"수박\": 3000}\n",
    "\n",
    "for key in foods.keys():\n",
    "    print(key)"
   ]
  },
  {
   "cell_type": "markdown",
   "metadata": {},
   "source": [
    "8. foods = {\"딸기\": 1000, \"사과\": 2000, \"수박\": 3000} value 값들을 출력하라(for문)"
   ]
  },
  {
   "cell_type": "code",
   "execution_count": 17,
   "metadata": {},
   "outputs": [
    {
     "name": "stdout",
     "output_type": "stream",
     "text": [
      "1000\n",
      "2000\n",
      "3000\n"
     ]
    }
   ],
   "source": [
    "foods = {\"딸기\": 1000, \"사과\": 2000, \"수박\": 3000}\n",
    "\n",
    "for value in foods.values():\n",
    "    print(value)"
   ]
  }
 ],
 "metadata": {
  "kernelspec": {
   "display_name": "Python 3",
   "language": "python",
   "name": "python3"
  },
  "language_info": {
   "codemirror_mode": {
    "name": "ipython",
    "version": 3
   },
   "file_extension": ".py",
   "mimetype": "text/x-python",
   "name": "python",
   "nbconvert_exporter": "python",
   "pygments_lexer": "ipython3",
   "version": "3.12.4"
  }
 },
 "nbformat": 4,
 "nbformat_minor": 2
}
