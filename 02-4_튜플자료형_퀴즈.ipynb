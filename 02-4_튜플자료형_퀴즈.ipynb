{
 "cells": [
  {
   "cell_type": "markdown",
   "metadata": {},
   "source": [
    "1. 하나의 요소(2)를 가진 튜플을 작성하시오 "
   ]
  },
  {
   "cell_type": "code",
   "execution_count": null,
   "metadata": {},
   "outputs": [],
   "source": [
    "t = (2,)"
   ]
  },
  {
   "cell_type": "markdown",
   "metadata": {},
   "source": [
    "2. 인덱스 1부터 3까지의 요소를 슬라이싱 하세요\n",
    "* a = (\"a\", \"b\", \"c\", \"d\", \"e\", \"f\")"
   ]
  },
  {
   "cell_type": "code",
   "execution_count": 3,
   "metadata": {},
   "outputs": [
    {
     "data": {
      "text/plain": [
       "('a', 'b', 'c')"
      ]
     },
     "execution_count": 3,
     "metadata": {},
     "output_type": "execute_result"
    }
   ],
   "source": [
    "a = (\"a\", \"b\", \"c\", \"d\", \"e\", \"f\")\n",
    "a[0:3]"
   ]
  },
  {
   "cell_type": "markdown",
   "metadata": {},
   "source": [
    "3. a = (\"dog\", \"cat\", \"fish\"), b = [\"tiger\", \"horse\", \"lion\"] 각각의 변수에 \"bird\"를 추가해 보세요"
   ]
  },
  {
   "cell_type": "code",
   "execution_count": 5,
   "metadata": {},
   "outputs": [
    {
     "name": "stdout",
     "output_type": "stream",
     "text": [
      "('d', 'c', 'f', 'b')\n",
      "('t', 'h', 'l', 'b')\n"
     ]
    }
   ],
   "source": [
    "a = (\"d\", \"c\", \"f\")\n",
    "b = \"t\", \"h\", \"l\"\n",
    "c = \"b\", \n",
    "a += c\n",
    "b += c\n",
    "\n",
    "print(a)\n",
    "print(b)"
   ]
  },
  {
   "cell_type": "markdown",
   "metadata": {},
   "source": [
    "4. number = (10, 20, 40, 50, 30) 에서 가장 큰 수를 출력하세요 "
   ]
  },
  {
   "cell_type": "code",
   "execution_count": 6,
   "metadata": {},
   "outputs": [
    {
     "data": {
      "text/plain": [
       "50"
      ]
     },
     "execution_count": 6,
     "metadata": {},
     "output_type": "execute_result"
    }
   ],
   "source": [
    "number = (10, 20, 40, 50, 30)\n",
    "max(number)"
   ]
  },
  {
   "cell_type": "markdown",
   "metadata": {},
   "source": [
    "5. a = \"감자\", b = \"고구마\" 일때 a에는 고구마, b에는 감자가 출력하도록 프로그램 하세요 "
   ]
  },
  {
   "cell_type": "code",
   "execution_count": 9,
   "metadata": {},
   "outputs": [
    {
     "name": "stdout",
     "output_type": "stream",
     "text": [
      "b\n",
      "a\n"
     ]
    }
   ],
   "source": [
    "a = \"a\"\n",
    "b = \"b\"\n",
    "\n",
    "a, b = b, a\n",
    "\n",
    "print(a)\n",
    "print(b)"
   ]
  },
  {
   "cell_type": "markdown",
   "metadata": {},
   "source": [
    "6. 4자리의 숫자를 입력받아 각각의 숫자를 더하는 프로그램을 만들어라 (입력갑 : 1234 -> 1 + 2 + 3 + 4 = 10)"
   ]
  },
  {
   "cell_type": "code",
   "execution_count": 10,
   "metadata": {},
   "outputs": [
    {
     "name": "stdout",
     "output_type": "stream",
     "text": [
      "10\n"
     ]
    }
   ],
   "source": [
    "s = 0\n",
    "\n",
    "i = int(input(\"n: \"))\n",
    "s += i\n",
    "i = int(input(\"n: \"))\n",
    "s += i\n",
    "i = int(input(\"n: \"))\n",
    "s += i\n",
    "i = int(input(\"n: \"))\n",
    "s += i\n",
    "\n",
    "print(s)"
   ]
  },
  {
   "cell_type": "markdown",
   "metadata": {},
   "source": [
    "\n",
    "7. 주어진 리스트 ['red', 'green', 'blue']에서 'green'을 삭제하고 리스트를 출력하세요."
   ]
  },
  {
   "cell_type": "code",
   "execution_count": 14,
   "metadata": {},
   "outputs": [
    {
     "name": "stdout",
     "output_type": "stream",
     "text": [
      "['r', 'b']\n"
     ]
    }
   ],
   "source": [
    "a = [\"r\", \"g\", \"b\"]\n",
    "del a[1]\n",
    "\n",
    "print(a)"
   ]
  },
  {
   "cell_type": "markdown",
   "metadata": {},
   "source": [
    "8. 리스트 ['apple', 'banana', 'cherry']에 'orange'를 추가하고, 결과를 출력하는 프로그램을 작성하세요."
   ]
  },
  {
   "cell_type": "code",
   "execution_count": 8,
   "metadata": {},
   "outputs": [
    {
     "name": "stdout",
     "output_type": "stream",
     "text": [
      "('a', 'b', 'c', 'o')\n"
     ]
    }
   ],
   "source": [
    "a = \"a\", \"b\", \"c\"\n",
    "b = \"o\", \n",
    "a += b\n",
    "\n",
    "print(a)"
   ]
  }
 ],
 "metadata": {
  "kernelspec": {
   "display_name": "Python 3",
   "language": "python",
   "name": "python3"
  },
  "language_info": {
   "codemirror_mode": {
    "name": "ipython",
    "version": 3
   },
   "file_extension": ".py",
   "mimetype": "text/x-python",
   "name": "python",
   "nbconvert_exporter": "python",
   "pygments_lexer": "ipython3",
   "version": "3.12.4"
  }
 },
 "nbformat": 4,
 "nbformat_minor": 2
}
