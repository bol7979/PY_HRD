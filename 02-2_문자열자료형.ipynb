{
 "cells": [
  {
   "cell_type": "markdown",
   "metadata": {},
   "source": [
    "#문자열\n",
    "> 01\n",
    "- 02"
   ]
  },
  {
   "cell_type": "code",
   "execution_count": 5,
   "metadata": {},
   "outputs": [
    {
     "name": "stdout",
     "output_type": "stream",
     "text": [
      "test's test\n",
      "\"test is test.\" test.\n"
     ]
    }
   ],
   "source": [
    "test = 'test\\'s test'\n",
    "test2 = \"\\\"test is test.\\\" test.\"\n",
    "\n",
    "print(test)\n",
    "print(test2)"
   ]
  },
  {
   "cell_type": "code",
   "execution_count": 8,
   "metadata": {},
   "outputs": [
    {
     "name": "stdout",
     "output_type": "stream",
     "text": [
      "\n",
      "    0\n",
      "1\n",
      "2\n"
     ]
    }
   ],
   "source": [
    "test = '''\n",
    "    0\n",
    "1\n",
    "2'''\n",
    "\n",
    "print(test)"
   ]
  },
  {
   "cell_type": "code",
   "execution_count": 9,
   "metadata": {},
   "outputs": [],
   "source": [
    "# Ctrl + /"
   ]
  },
  {
   "cell_type": "code",
   "execution_count": 10,
   "metadata": {},
   "outputs": [
    {
     "name": "stdout",
     "output_type": "stream",
     "text": [
      "출력값을 2024년 08월 06일, 오늘의 날씨는 Sunny 입니다.\n"
     ]
    }
   ],
   "source": [
    "a = \"20240806Sunny\"\n",
    "print(\"출력값을 %s년 %s월 %s일, 오늘의 날씨는 %s 입니다.\" % (a[0:4], a[4:6], a[6:8], a[8:]))"
   ]
  },
  {
   "cell_type": "code",
   "execution_count": 5,
   "metadata": {},
   "outputs": [
    {
     "name": "stdout",
     "output_type": "stream",
     "text": [
      "|  abc|\n",
      "|abc  |\n"
     ]
    }
   ],
   "source": [
    "print(\"|%5s|\" % \"abc\")\n",
    "print(\"|%-5s|\" % \"abc\")"
   ]
  },
  {
   "cell_type": "markdown",
   "metadata": {},
   "source": [
    "<!-- 어쩌구 -->"
   ]
  },
  {
   "cell_type": "code",
   "execution_count": 13,
   "metadata": {},
   "outputs": [
    {
     "name": "stdout",
     "output_type": "stream",
     "text": [
      "test 3.\n",
      "test toy.\n",
      "test toy, yes.\n",
      "\n",
      "test 1, 2\n",
      "\n",
      "test toy, 3\n"
     ]
    }
   ],
   "source": [
    "print (\"test {0}.\".format(3))\n",
    "print (\"test {0}.\".format(\"toy\"))\n",
    "print (\"test {0}, {1}.\".format(\"toy\", \"yes\"))\n",
    "print()\n",
    "\n",
    "\n",
    "print(\"test {a}, {b}\".format(a = 1, b = 2))\n",
    "print()\n",
    "\n",
    "print(\"test {0}, {b}\" .format(\"toy\", b = 3))"
   ]
  },
  {
   "cell_type": "code",
   "execution_count": 33,
   "metadata": {},
   "outputs": [
    {
     "name": "stdout",
     "output_type": "stream",
     "text": [
      "t: test001|\n",
      "t: test001   |\n",
      "t:    test001|\n",
      "t:  test001  |\n",
      "\n",
      "t: =test001==|\n",
      "\n",
      "test:    test001|\n"
     ]
    }
   ],
   "source": [
    "test = \"test001\"\n",
    "print(\"t: {0}|\" .format(test))\n",
    "print(\"t: {0:<10}|\" .format(test))\n",
    "print(\"t: {0:>10}|\" .format(test))\n",
    "print(\"t: {0:^10}|\" .format(test))\n",
    "print()\n",
    "\n",
    "print(\"t: {0:=^10}|\" .format(test))\n",
    "print()\n",
    "\n",
    "print(f\"test: {test:>10}|\")"
   ]
  },
  {
   "cell_type": "code",
   "execution_count": 30,
   "metadata": {},
   "outputs": [
    {
     "name": "stdout",
     "output_type": "stream",
     "text": [
      "t: 3.1424|\n"
     ]
    }
   ],
   "source": [
    "print(\"t: {0:.4f}|\" .format(3.1423525))"
   ]
  },
  {
   "cell_type": "code",
   "execution_count": 31,
   "metadata": {},
   "outputs": [
    {
     "name": "stdout",
     "output_type": "stream",
     "text": [
      "test test001.\n"
     ]
    }
   ],
   "source": [
    "print(f\"test {test}.\")"
   ]
  },
  {
   "cell_type": "code",
   "execution_count": 32,
   "metadata": {},
   "outputs": [
    {
     "name": "stdout",
     "output_type": "stream",
     "text": [
      "d: 개, c: 고양이\n"
     ]
    }
   ],
   "source": [
    "animal = {\"dog\": \"개\", \"cat\": \"고양이\"}\n",
    "\n",
    "print(f'd: {animal[\"dog\"]}, c: {animal[\"cat\"]}')"
   ]
  },
  {
   "cell_type": "code",
   "execution_count": 34,
   "metadata": {},
   "outputs": [
    {
     "ename": "NameError",
     "evalue": "name 'abcdeft' is not defined",
     "output_type": "error",
     "traceback": [
      "\u001b[1;31m---------------------------------------------------------------------------\u001b[0m",
      "\u001b[1;31mNameError\u001b[0m                                 Traceback (most recent call last)",
      "Cell \u001b[1;32mIn[34], line 1\u001b[0m\n\u001b[1;32m----> 1\u001b[0m \u001b[43mabcdeft\u001b[49m \u001b[38;5;66;03m# Ctrl + Shift + Alt\u001b[39;00m\n\u001b[0;32m      2\u001b[0m abcdeft \u001b[38;5;66;03m# Ctrl + Shift + Alt\u001b[39;00m\n\u001b[0;32m      3\u001b[0m abcdeft \u001b[38;5;66;03m# Ctrl + Shift + Alt\u001b[39;00m\n",
      "\u001b[1;31mNameError\u001b[0m: name 'abcdeft' is not defined"
     ]
    }
   ],
   "source": [
    "abcdeft # Ctrl + Shift + Alt\n",
    "abcdeft # Ctrl + Shift + Alt\n",
    "abcdeft # Ctrl + Shift + Alt\n",
    "abcdeft # Ctrl + Shift + Alt"
   ]
  },
  {
   "cell_type": "code",
   "execution_count": 45,
   "metadata": {},
   "outputs": [
    {
     "name": "stdout",
     "output_type": "stream",
     "text": [
      "2\n",
      "1\n",
      "1\n",
      "\n",
      "-1\n"
     ]
    },
    {
     "ename": "ValueError",
     "evalue": "substring not found",
     "output_type": "error",
     "traceback": [
      "\u001b[1;31m---------------------------------------------------------------------------\u001b[0m",
      "\u001b[1;31mValueError\u001b[0m                                Traceback (most recent call last)",
      "Cell \u001b[1;32mIn[45], line 9\u001b[0m\n\u001b[0;32m      6\u001b[0m \u001b[38;5;28mprint\u001b[39m()\n\u001b[0;32m      8\u001b[0m \u001b[38;5;28mprint\u001b[39m(test\u001b[38;5;241m.\u001b[39mfind(\u001b[38;5;124m\"\u001b[39m\u001b[38;5;124mk\u001b[39m\u001b[38;5;124m\"\u001b[39m))\n\u001b[1;32m----> 9\u001b[0m \u001b[38;5;28mprint\u001b[39m(\u001b[43mtest\u001b[49m\u001b[38;5;241;43m.\u001b[39;49m\u001b[43mindex\u001b[49m\u001b[43m(\u001b[49m\u001b[38;5;124;43m\"\u001b[39;49m\u001b[38;5;124;43mk\u001b[39;49m\u001b[38;5;124;43m\"\u001b[39;49m\u001b[43m)\u001b[49m)\n",
      "\u001b[1;31mValueError\u001b[0m: substring not found"
     ]
    }
   ],
   "source": [
    "test = \"test\"\n",
    "\n",
    "print(test.count(\"t\"))\n",
    "print(test.find(\"e\"))\n",
    "print(test.index(\"e\"))\n",
    "print()\n",
    "\n",
    "print(test.find(\"k\")) #-1\n",
    "print(test.index(\"k\")) #error\n"
   ]
  },
  {
   "cell_type": "code",
   "execution_count": 46,
   "metadata": {},
   "outputs": [
    {
     "data": {
      "text/plain": [
       "'t/e/s/t'"
      ]
     },
     "execution_count": 46,
     "metadata": {},
     "output_type": "execute_result"
    }
   ],
   "source": [
    "\"/\".join(\"test\")"
   ]
  },
  {
   "cell_type": "code",
   "execution_count": 50,
   "metadata": {},
   "outputs": [
    {
     "name": "stdout",
     "output_type": "stream",
     "text": [
      "TEST\n"
     ]
    }
   ],
   "source": [
    "print(test.upper())"
   ]
  },
  {
   "cell_type": "code",
   "execution_count": 54,
   "metadata": {},
   "outputs": [
    {
     "name": "stdout",
     "output_type": "stream",
     "text": [
      "test_a     \n",
      "     test_a\n",
      "test_a\n",
      "\n",
      "tost\n"
     ]
    }
   ],
   "source": [
    "test_a = \"     test_a     \"\n",
    "\n",
    "print(test_a.lstrip())\n",
    "print(test_a.rstrip())\n",
    "print(test_a.strip())\n",
    "print()\n",
    "\n",
    "print(test.replace(\"e\", \"o\"))\n"
   ]
  },
  {
   "cell_type": "code",
   "execution_count": 59,
   "metadata": {},
   "outputs": [
    {
     "name": "stdout",
     "output_type": "stream",
     "text": [
      "['t', 'e', 's', 't']\n",
      "['t', 'e s t']\n"
     ]
    }
   ],
   "source": [
    "test_b = \"t e s t\"\n",
    "print(test_b.split())\n",
    "\n",
    "test_c = \"t,e s t\"\n",
    "print(test_c.split(\",\"))"
   ]
  },
  {
   "cell_type": "code",
   "execution_count": null,
   "metadata": {},
   "outputs": [],
   "source": []
  }
 ],
 "metadata": {
  "kernelspec": {
   "display_name": "Python 3",
   "language": "python",
   "name": "python3"
  },
  "language_info": {
   "codemirror_mode": {
    "name": "ipython",
    "version": 3
   },
   "file_extension": ".py",
   "mimetype": "text/x-python",
   "name": "python",
   "nbconvert_exporter": "python",
   "pygments_lexer": "ipython3",
   "version": "3.12.4"
  }
 },
 "nbformat": 4,
 "nbformat_minor": 2
}
